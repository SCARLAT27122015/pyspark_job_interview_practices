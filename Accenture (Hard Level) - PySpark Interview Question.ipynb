{
 "cells": [
  {
   "cell_type": "markdown",
   "metadata": {
    "application/vnd.databricks.v1+cell": {
     "cellMetadata": {},
     "inputWidgets": {},
     "nuid": "ba150ef4-edce-4752-8cdf-7d3f40f36573",
     "showTitle": false,
     "tableResultSettingsMap": {},
     "title": ""
    }
   },
   "source": [
    "# Accenture (Hard Level) - PySpark Interview Question"
   ]
  },
  {
   "cell_type": "markdown",
   "metadata": {
    "application/vnd.databricks.v1+cell": {
     "cellMetadata": {},
     "inputWidgets": {},
     "nuid": "0b0e3034-e5e8-4f73-bb9e-e489ce34fb88",
     "showTitle": false,
     "tableResultSettingsMap": {},
     "title": ""
    }
   },
   "source": [
    "You are given a dataset containing sales data for different stores across various months. Each row contains the store name, the month, and the sales amount. Your task is to calculate the cumulative sales for each store, considering the monthly sales, using PySpark.\n",
    "\n",
    "You should also:\n",
    "Filter out stores with sales lower than 1000 in any month.\n",
    "Calculate the total sales for each store over all months.\n",
    "Sort the results by the total sales in descending order.\n"
   ]
  },
  {
   "cell_type": "code",
   "execution_count": 0,
   "metadata": {
    "application/vnd.databricks.v1+cell": {
     "cellMetadata": {
      "byteLimit": 2048000,
      "rowLimit": 10000
     },
     "inputWidgets": {},
     "nuid": "d9f54c7f-8236-4c78-98ba-2af5fb68c777",
     "showTitle": false,
     "tableResultSettingsMap": {},
     "title": ""
    }
   },
   "outputs": [],
   "source": [
    "from pyspark.sql.functions import *\n",
    "from pyspark.sql.types import *\n",
    "from pyspark.sql.window import *"
   ]
  },
  {
   "cell_type": "code",
   "execution_count": 0,
   "metadata": {
    "application/vnd.databricks.v1+cell": {
     "cellMetadata": {
      "byteLimit": 2048000,
      "rowLimit": 10000
     },
     "inputWidgets": {},
     "nuid": "341c9dd1-bc70-4273-8ce7-988dd5f49e31",
     "showTitle": false,
     "tableResultSettingsMap": {},
     "title": ""
    }
   },
   "outputs": [],
   "source": [
    "data = [ (\"Store A\", \"2024-01\", 800), (\"Store A\", \"2024-02\", 1200), (\"Store A\", \"2024-03\", 900), (\"Store B\", \"2024-01\", 1500), (\"Store B\", \"2024-02\", 1600), (\"Store B\", \"2024-03\", 1400), (\"Store C\", \"2024-01\", 700), (\"Store C\", \"2024-02\", 1000), (\"Store C\", \"2024-03\", 800) ] \n",
    "\n",
    "df = spark.createDataFrame(data, [\"Store\", \"Month\", \"Sales\"]) "
   ]
  },
  {
   "cell_type": "code",
   "execution_count": 0,
   "metadata": {
    "application/vnd.databricks.v1+cell": {
     "cellMetadata": {
      "byteLimit": 2048000,
      "rowLimit": 10000
     },
     "inputWidgets": {},
     "nuid": "7f013a1b-9b23-4bcd-bde4-ad54f26546e0",
     "showTitle": false,
     "tableResultSettingsMap": {},
     "title": ""
    }
   },
   "outputs": [
    {
     "output_type": "display_data",
     "data": {
      "text/html": [
       "<style scoped>\n",
       "  .table-result-container {\n",
       "    max-height: 300px;\n",
       "    overflow: auto;\n",
       "  }\n",
       "  table, th, td {\n",
       "    border: 1px solid black;\n",
       "    border-collapse: collapse;\n",
       "  }\n",
       "  th, td {\n",
       "    padding: 5px;\n",
       "  }\n",
       "  th {\n",
       "    text-align: left;\n",
       "  }\n",
       "</style><div class='table-result-container'><table class='table-result'><thead style='background-color: white'><tr><th>Store</th><th>Month</th><th>Sales</th></tr></thead><tbody><tr><td>Store A</td><td>2024-01</td><td>800</td></tr><tr><td>Store A</td><td>2024-02</td><td>1200</td></tr><tr><td>Store A</td><td>2024-03</td><td>900</td></tr><tr><td>Store B</td><td>2024-01</td><td>1500</td></tr><tr><td>Store B</td><td>2024-02</td><td>1600</td></tr><tr><td>Store B</td><td>2024-03</td><td>1400</td></tr><tr><td>Store C</td><td>2024-01</td><td>700</td></tr><tr><td>Store C</td><td>2024-02</td><td>1000</td></tr><tr><td>Store C</td><td>2024-03</td><td>800</td></tr></tbody></table></div>"
      ]
     },
     "metadata": {
      "application/vnd.databricks.v1+output": {
       "addedWidgets": {},
       "aggData": [],
       "aggError": "",
       "aggOverflow": false,
       "aggSchema": [],
       "aggSeriesLimitReached": false,
       "aggType": "",
       "arguments": {},
       "columnCustomDisplayInfos": {},
       "data": [
        [
         "Store A",
         "2024-01",
         800
        ],
        [
         "Store A",
         "2024-02",
         1200
        ],
        [
         "Store A",
         "2024-03",
         900
        ],
        [
         "Store B",
         "2024-01",
         1500
        ],
        [
         "Store B",
         "2024-02",
         1600
        ],
        [
         "Store B",
         "2024-03",
         1400
        ],
        [
         "Store C",
         "2024-01",
         700
        ],
        [
         "Store C",
         "2024-02",
         1000
        ],
        [
         "Store C",
         "2024-03",
         800
        ]
       ],
       "datasetInfos": [],
       "dbfsResultPath": null,
       "isJsonSchema": true,
       "metadata": {},
       "overflow": false,
       "plotOptions": {
        "customPlotOptions": {},
        "displayType": "table",
        "pivotAggregation": null,
        "pivotColumns": null,
        "xColumns": null,
        "yColumns": null
       },
       "removedWidgets": [],
       "schema": [
        {
         "metadata": "{}",
         "name": "Store",
         "type": "\"string\""
        },
        {
         "metadata": "{}",
         "name": "Month",
         "type": "\"string\""
        },
        {
         "metadata": "{}",
         "name": "Sales",
         "type": "\"long\""
        }
       ],
       "type": "table"
      }
     },
     "output_type": "display_data"
    }
   ],
   "source": [
    "df.display()"
   ]
  },
  {
   "cell_type": "code",
   "execution_count": 0,
   "metadata": {
    "application/vnd.databricks.v1+cell": {
     "cellMetadata": {
      "byteLimit": 2048000,
      "rowLimit": 10000
     },
     "inputWidgets": {},
     "nuid": "25342253-c03a-4fba-800f-9ab64b1421d8",
     "showTitle": false,
     "tableResultSettingsMap": {},
     "title": ""
    }
   },
   "outputs": [
    {
     "output_type": "display_data",
     "data": {
      "text/html": [
       "<style scoped>\n",
       "  .table-result-container {\n",
       "    max-height: 300px;\n",
       "    overflow: auto;\n",
       "  }\n",
       "  table, th, td {\n",
       "    border: 1px solid black;\n",
       "    border-collapse: collapse;\n",
       "  }\n",
       "  th, td {\n",
       "    padding: 5px;\n",
       "  }\n",
       "  th {\n",
       "    text-align: left;\n",
       "  }\n",
       "</style><div class='table-result-container'><table class='table-result'><thead style='background-color: white'><tr><th>Store</th><th>total_cum_sales</th><th>total_sales</th></tr></thead><tbody><tr><td>Store B</td><td>4500</td><td>4500</td></tr><tr><td>Store B</td><td>3100</td><td>4500</td></tr><tr><td>Store B</td><td>1500</td><td>4500</td></tr><tr><td>Store A</td><td>1200</td><td>1200</td></tr><tr><td>Store C</td><td>1000</td><td>1000</td></tr></tbody></table></div>"
      ]
     },
     "metadata": {
      "application/vnd.databricks.v1+output": {
       "addedWidgets": {},
       "aggData": [],
       "aggError": "",
       "aggOverflow": false,
       "aggSchema": [],
       "aggSeriesLimitReached": false,
       "aggType": "",
       "arguments": {},
       "columnCustomDisplayInfos": {},
       "data": [
        [
         "Store B",
         4500,
         4500
        ],
        [
         "Store B",
         3100,
         4500
        ],
        [
         "Store B",
         1500,
         4500
        ],
        [
         "Store A",
         1200,
         1200
        ],
        [
         "Store C",
         1000,
         1000
        ]
       ],
       "datasetInfos": [],
       "dbfsResultPath": null,
       "isJsonSchema": true,
       "metadata": {},
       "overflow": false,
       "plotOptions": {
        "customPlotOptions": {},
        "displayType": "table",
        "pivotAggregation": null,
        "pivotColumns": null,
        "xColumns": null,
        "yColumns": null
       },
       "removedWidgets": [],
       "schema": [
        {
         "metadata": "{}",
         "name": "Store",
         "type": "\"string\""
        },
        {
         "metadata": "{}",
         "name": "total_cum_sales",
         "type": "\"long\""
        },
        {
         "metadata": "{}",
         "name": "total_sales",
         "type": "\"long\""
        }
       ],
       "type": "table"
      }
     },
     "output_type": "display_data"
    }
   ],
   "source": [
    "window_criteria = Window.partitionBy('Store').orderBy(col('Month').asc())\n",
    "\n",
    "cum_sales = (df.filter(col('Sales') >= 1000)\n",
    "              .withColumn(\n",
    "                  'total_cum_sales'\n",
    "                  , sum('Sales').over(window_criteria)\n",
    "               )).alias('df_cum_sales')\n",
    "              \n",
    "\n",
    "df_total_sales = (cum_sales.groupBy('Store')\n",
    "                           .agg(\n",
    "                               sum(col('Sales')).alias('total_sales')\n",
    "                           )\n",
    "                ).alias('df_total_sales')\n",
    "\n",
    "(cum_sales.join(\n",
    "                df_total_sales\n",
    "                , on=cum_sales['Store'] == df_total_sales['Store']\n",
    "                , how='inner'\n",
    "            )\n",
    "            .select('df_cum_sales.Store', 'total_cum_sales', 'total_sales')\n",
    "            .orderBy(col('total_sales').desc())\n",
    "            .display()\n",
    ")"
   ]
  },
  {
   "cell_type": "code",
   "execution_count": 0,
   "metadata": {
    "application/vnd.databricks.v1+cell": {
     "cellMetadata": {},
     "inputWidgets": {},
     "nuid": "9871c59d-8596-47c9-85dd-0031caafa680",
     "showTitle": false,
     "tableResultSettingsMap": {},
     "title": ""
    }
   },
   "outputs": [],
   "source": []
  }
 ],
 "metadata": {
  "application/vnd.databricks.v1+notebook": {
   "computePreferences": null,
   "dashboards": [],
   "environmentMetadata": {
    "base_environment": "",
    "environment_version": "1"
   },
   "inputWidgetPreferences": null,
   "language": "python",
   "notebookMetadata": {
    "pythonIndentUnit": 4
   },
   "notebookName": "Accenture (Hard Level) - PySpark Interview Question",
   "widgets": {}
  }
 },
 "nbformat": 4,
 "nbformat_minor": 0
}