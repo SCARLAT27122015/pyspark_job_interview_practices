{
 "cells": [
  {
   "cell_type": "markdown",
   "metadata": {
    "application/vnd.databricks.v1+cell": {
     "cellMetadata": {},
     "inputWidgets": {},
     "nuid": "ae50bebb-74b0-4098-8eb0-cc12a278898c",
     "showTitle": false,
     "tableResultSettingsMap": {},
     "title": ""
    }
   },
   "source": [
    "# Cognizant (Hard Level) - PySpark Interview Question"
   ]
  },
  {
   "cell_type": "markdown",
   "metadata": {
    "application/vnd.databricks.v1+cell": {
     "cellMetadata": {
      "byteLimit": 2048000,
      "rowLimit": 10000
     },
     "inputWidgets": {},
     "nuid": "f7fbeed6-dd0d-4eb9-bf36-332946406092",
     "showTitle": false,
     "tableResultSettingsMap": {},
     "title": ""
    }
   },
   "source": [
    "You have the following dataset containing sales information for different products and regions. Reshape the data using PySpark's pivot() method to calculate the total sales for each product across regions, and then optimize it further by applying specific transformations.\n",
    "\n",
    "Task 1: Use pivot() to create a table showing the total sales for each product by region.\n",
    "\n",
    "Task 2: Add a column calculating the percentage contribution of each region to the total sales for that product.\n",
    "\n",
    "Task 3: Sort the data in descending order by total sales for each product."
   ]
  },
  {
   "cell_type": "code",
   "execution_count": 0,
   "metadata": {
    "application/vnd.databricks.v1+cell": {
     "cellMetadata": {
      "byteLimit": 2048000,
      "rowLimit": 10000
     },
     "inputWidgets": {},
     "nuid": "e4224580-82b8-4f65-88b2-30ef9d876aa5",
     "showTitle": false,
     "tableResultSettingsMap": {},
     "title": ""
    }
   },
   "outputs": [],
   "source": [
    "from pyspark.sql.functions import *\n",
    "from pyspark.sql.types import *\n",
    "from pyspark.sql.window import *"
   ]
  },
  {
   "cell_type": "code",
   "execution_count": 0,
   "metadata": {
    "application/vnd.databricks.v1+cell": {
     "cellMetadata": {
      "byteLimit": 2048000,
      "rowLimit": 10000
     },
     "inputWidgets": {},
     "nuid": "12f48db9-ef62-4fda-9113-7a84e0efe094",
     "showTitle": false,
     "tableResultSettingsMap": {},
     "title": ""
    }
   },
   "outputs": [
    {
     "output_type": "display_data",
     "data": {
      "text/html": [
       "<style scoped>\n",
       "  .table-result-container {\n",
       "    max-height: 300px;\n",
       "    overflow: auto;\n",
       "  }\n",
       "  table, th, td {\n",
       "    border: 1px solid black;\n",
       "    border-collapse: collapse;\n",
       "  }\n",
       "  th, td {\n",
       "    padding: 5px;\n",
       "  }\n",
       "  th {\n",
       "    text-align: left;\n",
       "  }\n",
       "</style><div class='table-result-container'><table class='table-result'><thead style='background-color: white'><tr><th>Region</th><th>Product</th><th>Sales</th><th>Quarter</th></tr></thead><tbody><tr><td>North</td><td>Laptop</td><td>2000</td><td>Q1</td></tr><tr><td>South</td><td>Laptop</td><td>3000</td><td>Q1</td></tr><tr><td>East</td><td>Laptop</td><td>2500</td><td>Q1</td></tr><tr><td>North</td><td>Phone</td><td>1500</td><td>Q1</td></tr><tr><td>South</td><td>Phone</td><td>1000</td><td>Q1</td></tr><tr><td>East</td><td>Phone</td><td>2000</td><td>Q1</td></tr><tr><td>North</td><td>Laptop</td><td>3000</td><td>Q2</td></tr><tr><td>South</td><td>Laptop</td><td>4000</td><td>Q2</td></tr><tr><td>East</td><td>Laptop</td><td>3500</td><td>Q2</td></tr><tr><td>North</td><td>Phone</td><td>2500</td><td>Q2</td></tr><tr><td>South</td><td>Phone</td><td>1500</td><td>Q2</td></tr><tr><td>East</td><td>Phone</td><td>3000</td><td>Q2</td></tr></tbody></table></div>"
      ]
     },
     "metadata": {
      "application/vnd.databricks.v1+output": {
       "addedWidgets": {},
       "aggData": [],
       "aggError": "",
       "aggOverflow": false,
       "aggSchema": [],
       "aggSeriesLimitReached": false,
       "aggType": "",
       "arguments": {},
       "columnCustomDisplayInfos": {},
       "data": [
        [
         "North",
         "Laptop",
         2000,
         "Q1"
        ],
        [
         "South",
         "Laptop",
         3000,
         "Q1"
        ],
        [
         "East",
         "Laptop",
         2500,
         "Q1"
        ],
        [
         "North",
         "Phone",
         1500,
         "Q1"
        ],
        [
         "South",
         "Phone",
         1000,
         "Q1"
        ],
        [
         "East",
         "Phone",
         2000,
         "Q1"
        ],
        [
         "North",
         "Laptop",
         3000,
         "Q2"
        ],
        [
         "South",
         "Laptop",
         4000,
         "Q2"
        ],
        [
         "East",
         "Laptop",
         3500,
         "Q2"
        ],
        [
         "North",
         "Phone",
         2500,
         "Q2"
        ],
        [
         "South",
         "Phone",
         1500,
         "Q2"
        ],
        [
         "East",
         "Phone",
         3000,
         "Q2"
        ]
       ],
       "datasetInfos": [],
       "dbfsResultPath": null,
       "isJsonSchema": true,
       "metadata": {},
       "overflow": false,
       "plotOptions": {
        "customPlotOptions": {},
        "displayType": "table",
        "pivotAggregation": null,
        "pivotColumns": null,
        "xColumns": null,
        "yColumns": null
       },
       "removedWidgets": [],
       "schema": [
        {
         "metadata": "{}",
         "name": "Region",
         "type": "\"string\""
        },
        {
         "metadata": "{}",
         "name": "Product",
         "type": "\"string\""
        },
        {
         "metadata": "{}",
         "name": "Sales",
         "type": "\"long\""
        },
        {
         "metadata": "{}",
         "name": "Quarter",
         "type": "\"string\""
        }
       ],
       "type": "table"
      }
     },
     "output_type": "display_data"
    }
   ],
   "source": [
    "data = [ (\"North\", \"Laptop\", 2000, \"Q1\"), (\"South\", \"Laptop\", 3000, \"Q1\"), (\"East\", \"Laptop\", 2500, \"Q1\"), (\"North\", \"Phone\", 1500, \"Q1\"), \n",
    "(\"South\", \"Phone\", 1000, \"Q1\"), (\"East\", \"Phone\", 2000, \"Q1\"), \n",
    "(\"North\", \"Laptop\", 3000, \"Q2\"), (\"South\", \"Laptop\", 4000, \"Q2\"), \n",
    "(\"East\", \"Laptop\", 3500, \"Q2\"), (\"North\", \"Phone\", 2500, \"Q2\"), \n",
    "(\"South\", \"Phone\", 1500, \"Q2\"), (\"East\", \"Phone\", 3000, \"Q2\"), ] \n",
    "\n",
    "columns = [\"Region\", \"Product\", \"Sales\", \"Quarter\"]\n",
    "\n",
    "df = spark.createDataFrame(data, columns)\n",
    "df.display()"
   ]
  },
  {
   "cell_type": "code",
   "execution_count": 0,
   "metadata": {
    "application/vnd.databricks.v1+cell": {
     "cellMetadata": {
      "byteLimit": 2048000,
      "rowLimit": 10000
     },
     "inputWidgets": {},
     "nuid": "4c25a465-0084-4061-afa4-a99d1d62de81",
     "showTitle": false,
     "tableResultSettingsMap": {},
     "title": ""
    }
   },
   "outputs": [
    {
     "output_type": "display_data",
     "data": {
      "text/html": [
       "<style scoped>\n",
       "  .table-result-container {\n",
       "    max-height: 300px;\n",
       "    overflow: auto;\n",
       "  }\n",
       "  table, th, td {\n",
       "    border: 1px solid black;\n",
       "    border-collapse: collapse;\n",
       "  }\n",
       "  th, td {\n",
       "    padding: 5px;\n",
       "  }\n",
       "  th {\n",
       "    text-align: left;\n",
       "  }\n",
       "</style><div class='table-result-container'><table class='table-result'><thead style='background-color: white'><tr><th>Product</th><th>East</th><th>North</th><th>South</th><th>total_sales</th><th>perc_east</th><th>perc_north</th><th>perc_south</th></tr></thead><tbody><tr><td>Laptop</td><td>6000</td><td>5000</td><td>7000</td><td>18000</td><td>33.33</td><td>27.78</td><td>38.89</td></tr><tr><td>Phone</td><td>5000</td><td>4000</td><td>2500</td><td>11500</td><td>43.48</td><td>34.78</td><td>21.74</td></tr></tbody></table></div>"
      ]
     },
     "metadata": {
      "application/vnd.databricks.v1+output": {
       "addedWidgets": {},
       "aggData": [],
       "aggError": "",
       "aggOverflow": false,
       "aggSchema": [],
       "aggSeriesLimitReached": false,
       "aggType": "",
       "arguments": {},
       "columnCustomDisplayInfos": {},
       "data": [
        [
         "Laptop",
         6000,
         5000,
         7000,
         18000,
         33.33,
         27.78,
         38.89
        ],
        [
         "Phone",
         5000,
         4000,
         2500,
         11500,
         43.48,
         34.78,
         21.74
        ]
       ],
       "datasetInfos": [],
       "dbfsResultPath": null,
       "isJsonSchema": true,
       "metadata": {},
       "overflow": false,
       "plotOptions": {
        "customPlotOptions": {},
        "displayType": "table",
        "pivotAggregation": null,
        "pivotColumns": null,
        "xColumns": null,
        "yColumns": null
       },
       "removedWidgets": [],
       "schema": [
        {
         "metadata": "{}",
         "name": "Product",
         "type": "\"string\""
        },
        {
         "metadata": "{}",
         "name": "East",
         "type": "\"long\""
        },
        {
         "metadata": "{}",
         "name": "North",
         "type": "\"long\""
        },
        {
         "metadata": "{}",
         "name": "South",
         "type": "\"long\""
        },
        {
         "metadata": "{}",
         "name": "total_sales",
         "type": "\"long\""
        },
        {
         "metadata": "{}",
         "name": "perc_east",
         "type": "\"double\""
        },
        {
         "metadata": "{}",
         "name": "perc_north",
         "type": "\"double\""
        },
        {
         "metadata": "{}",
         "name": "perc_south",
         "type": "\"double\""
        }
       ],
       "type": "table"
      }
     },
     "output_type": "display_data"
    }
   ],
   "source": [
    "(\n",
    "    df.groupBy('Product').pivot('Region').sum('Sales')\n",
    "      .withColumns({\n",
    "          'total_sales': col('East') + col('North') + col('South')\n",
    "          , 'perc_east': round((col('East') / col('total_sales')) * 100, 2)\n",
    "          , 'perc_north': round((col('North') / col('total_sales')) * 100, 2) \n",
    "          , 'perc_south': round((col('South') / col('total_sales')) * 100, 2) \n",
    "      })\n",
    "      .orderBy(col('total_sales').desc())\n",
    "      .display()\n",
    "\n",
    ")"
   ]
  },
  {
   "cell_type": "code",
   "execution_count": 0,
   "metadata": {
    "application/vnd.databricks.v1+cell": {
     "cellMetadata": {},
     "inputWidgets": {},
     "nuid": "6bd38939-f526-4119-bad2-3c0a2eba8c8b",
     "showTitle": false,
     "tableResultSettingsMap": {},
     "title": ""
    }
   },
   "outputs": [],
   "source": []
  }
 ],
 "metadata": {
  "application/vnd.databricks.v1+notebook": {
   "computePreferences": null,
   "dashboards": [],
   "environmentMetadata": {
    "base_environment": "",
    "environment_version": "1"
   },
   "inputWidgetPreferences": null,
   "language": "python",
   "notebookMetadata": {
    "pythonIndentUnit": 4
   },
   "notebookName": "Cognizant (Hard Level) #PySpark Interview Question — Solution",
   "widgets": {}
  }
 },
 "nbformat": 4,
 "nbformat_minor": 0
}