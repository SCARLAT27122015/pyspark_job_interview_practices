{
 "cells": [
  {
   "cell_type": "markdown",
   "metadata": {
    "application/vnd.databricks.v1+cell": {
     "cellMetadata": {},
     "inputWidgets": {},
     "nuid": "3393f4c8-db57-4a41-be5d-91e81ab15eca",
     "showTitle": false,
     "tableResultSettingsMap": {},
     "title": ""
    }
   },
   "source": [
    "#  LTIMindtree - PySpark Interview Question — Solution"
   ]
  },
  {
   "cell_type": "markdown",
   "metadata": {
    "application/vnd.databricks.v1+cell": {
     "cellMetadata": {},
     "inputWidgets": {},
     "nuid": "5df51751-4916-437a-aa3a-398c3dc7f6b8",
     "showTitle": false,
     "tableResultSettingsMap": {},
     "title": ""
    }
   },
   "source": [
    "Given a dataset of monthly sales records with salespeople names and their regions, calculate the month with the highest sales for each region using window functions and the max() function. Ensure that the result includes the region name, month, and sales value. Consider sales fluctuations, and the dataset should contain multiple records for each region to test windowing correctly."
   ]
  },
  {
   "cell_type": "code",
   "execution_count": 0,
   "metadata": {
    "application/vnd.databricks.v1+cell": {
     "cellMetadata": {
      "byteLimit": 2048000,
      "rowLimit": 10000
     },
     "inputWidgets": {},
     "nuid": "21e50335-f356-4b63-980b-058fb01d582d",
     "showTitle": false,
     "tableResultSettingsMap": {},
     "title": ""
    }
   },
   "outputs": [],
   "source": [
    "from pyspark.sql.functions import *\n",
    "from pyspark.sql.window import *\n",
    "from pyspark.sql.types import *"
   ]
  },
  {
   "cell_type": "code",
   "execution_count": 0,
   "metadata": {
    "application/vnd.databricks.v1+cell": {
     "cellMetadata": {
      "byteLimit": 2048000,
      "rowLimit": 10000
     },
     "inputWidgets": {},
     "nuid": "114fb9f9-c97e-409e-9dc8-80a0d5207e38",
     "showTitle": false,
     "tableResultSettingsMap": {},
     "title": ""
    }
   },
   "outputs": [],
   "source": [
    "data = [ (\"Amit\", \"North\", \"Jan\", 12000), (\"Rajesh\", \"North\", \"Feb\", 15000), (\"Sunita\", \"North\", \"Mar\", 11000), (\"Meena\", \"South\", \"Jan\", 17000), \n",
    "(\"Ravi\", \"South\", \"Feb\", 20000), (\"Priya\", \"South\", \"Mar\", 18000), \n",
    "(\"Suresh\", \"East\", \"Jan\", 10000), (\"Vishal\", \"East\", \"Feb\", 22000), \n",
    "(\"Akash\", \"East\", \"Mar\", 21000), (\"Anjali\", \"West\", \"Jan\", 15000), \n",
    "(\"Deepak\", \"West\", \"Feb\", 13000), (\"Nidhi\", \"West\", \"Mar\", 17000), ] \n",
    "\n",
    "# Step 3: Define schema and create DataFrame \n",
    "columns = [\"Salesperson\", \"Region\", \"Month\", \"Sales\"]"
   ]
  },
  {
   "cell_type": "code",
   "execution_count": 0,
   "metadata": {
    "application/vnd.databricks.v1+cell": {
     "cellMetadata": {
      "byteLimit": 2048000,
      "rowLimit": 10000
     },
     "inputWidgets": {},
     "nuid": "669d6068-2cd4-4108-90cc-be96dbe8ab12",
     "showTitle": false,
     "tableResultSettingsMap": {},
     "title": ""
    }
   },
   "outputs": [
    {
     "output_type": "display_data",
     "data": {
      "text/html": [
       "<style scoped>\n",
       "  .table-result-container {\n",
       "    max-height: 300px;\n",
       "    overflow: auto;\n",
       "  }\n",
       "  table, th, td {\n",
       "    border: 1px solid black;\n",
       "    border-collapse: collapse;\n",
       "  }\n",
       "  th, td {\n",
       "    padding: 5px;\n",
       "  }\n",
       "  th {\n",
       "    text-align: left;\n",
       "  }\n",
       "</style><div class='table-result-container'><table class='table-result'><thead style='background-color: white'><tr><th>Salesperson</th><th>Region</th><th>Month</th><th>Sales</th></tr></thead><tbody><tr><td>Amit</td><td>North</td><td>Jan</td><td>12000</td></tr><tr><td>Rajesh</td><td>North</td><td>Feb</td><td>15000</td></tr><tr><td>Sunita</td><td>North</td><td>Mar</td><td>11000</td></tr><tr><td>Meena</td><td>South</td><td>Jan</td><td>17000</td></tr><tr><td>Ravi</td><td>South</td><td>Feb</td><td>20000</td></tr><tr><td>Priya</td><td>South</td><td>Mar</td><td>18000</td></tr><tr><td>Suresh</td><td>East</td><td>Jan</td><td>10000</td></tr><tr><td>Vishal</td><td>East</td><td>Feb</td><td>22000</td></tr><tr><td>Akash</td><td>East</td><td>Mar</td><td>21000</td></tr><tr><td>Anjali</td><td>West</td><td>Jan</td><td>15000</td></tr><tr><td>Deepak</td><td>West</td><td>Feb</td><td>13000</td></tr><tr><td>Nidhi</td><td>West</td><td>Mar</td><td>17000</td></tr></tbody></table></div>"
      ]
     },
     "metadata": {
      "application/vnd.databricks.v1+output": {
       "addedWidgets": {},
       "aggData": [],
       "aggError": "",
       "aggOverflow": false,
       "aggSchema": [],
       "aggSeriesLimitReached": false,
       "aggType": "",
       "arguments": {},
       "columnCustomDisplayInfos": {},
       "data": [
        [
         "Amit",
         "North",
         "Jan",
         12000
        ],
        [
         "Rajesh",
         "North",
         "Feb",
         15000
        ],
        [
         "Sunita",
         "North",
         "Mar",
         11000
        ],
        [
         "Meena",
         "South",
         "Jan",
         17000
        ],
        [
         "Ravi",
         "South",
         "Feb",
         20000
        ],
        [
         "Priya",
         "South",
         "Mar",
         18000
        ],
        [
         "Suresh",
         "East",
         "Jan",
         10000
        ],
        [
         "Vishal",
         "East",
         "Feb",
         22000
        ],
        [
         "Akash",
         "East",
         "Mar",
         21000
        ],
        [
         "Anjali",
         "West",
         "Jan",
         15000
        ],
        [
         "Deepak",
         "West",
         "Feb",
         13000
        ],
        [
         "Nidhi",
         "West",
         "Mar",
         17000
        ]
       ],
       "datasetInfos": [],
       "dbfsResultPath": null,
       "isJsonSchema": true,
       "metadata": {},
       "overflow": false,
       "plotOptions": {
        "customPlotOptions": {},
        "displayType": "table",
        "pivotAggregation": null,
        "pivotColumns": null,
        "xColumns": null,
        "yColumns": null
       },
       "removedWidgets": [],
       "schema": [
        {
         "metadata": "{}",
         "name": "Salesperson",
         "type": "\"string\""
        },
        {
         "metadata": "{}",
         "name": "Region",
         "type": "\"string\""
        },
        {
         "metadata": "{}",
         "name": "Month",
         "type": "\"string\""
        },
        {
         "metadata": "{}",
         "name": "Sales",
         "type": "\"long\""
        }
       ],
       "type": "table"
      }
     },
     "output_type": "display_data"
    }
   ],
   "source": [
    "df = spark.createDataFrame(data, columns)\n",
    "df.display()"
   ]
  },
  {
   "cell_type": "code",
   "execution_count": 0,
   "metadata": {
    "application/vnd.databricks.v1+cell": {
     "cellMetadata": {
      "byteLimit": 2048000,
      "rowLimit": 10000
     },
     "inputWidgets": {},
     "nuid": "9b6ada72-ddeb-49d0-9124-5014458cc777",
     "showTitle": false,
     "tableResultSettingsMap": {},
     "title": ""
    }
   },
   "outputs": [
    {
     "output_type": "display_data",
     "data": {
      "text/html": [
       "<style scoped>\n",
       "  .table-result-container {\n",
       "    max-height: 300px;\n",
       "    overflow: auto;\n",
       "  }\n",
       "  table, th, td {\n",
       "    border: 1px solid black;\n",
       "    border-collapse: collapse;\n",
       "  }\n",
       "  th, td {\n",
       "    padding: 5px;\n",
       "  }\n",
       "  th {\n",
       "    text-align: left;\n",
       "  }\n",
       "</style><div class='table-result-container'><table class='table-result'><thead style='background-color: white'><tr><th>Region</th><th>Month</th><th>Sales</th></tr></thead><tbody><tr><td>East</td><td>Feb</td><td>22000</td></tr><tr><td>North</td><td>Feb</td><td>15000</td></tr><tr><td>South</td><td>Feb</td><td>20000</td></tr><tr><td>West</td><td>Mar</td><td>17000</td></tr></tbody></table></div>"
      ]
     },
     "metadata": {
      "application/vnd.databricks.v1+output": {
       "addedWidgets": {},
       "aggData": [],
       "aggError": "",
       "aggOverflow": false,
       "aggSchema": [],
       "aggSeriesLimitReached": false,
       "aggType": "",
       "arguments": {},
       "columnCustomDisplayInfos": {},
       "data": [
        [
         "East",
         "Feb",
         22000
        ],
        [
         "North",
         "Feb",
         15000
        ],
        [
         "South",
         "Feb",
         20000
        ],
        [
         "West",
         "Mar",
         17000
        ]
       ],
       "datasetInfos": [],
       "dbfsResultPath": null,
       "isJsonSchema": true,
       "metadata": {},
       "overflow": false,
       "plotOptions": {
        "customPlotOptions": {},
        "displayType": "table",
        "pivotAggregation": null,
        "pivotColumns": null,
        "xColumns": null,
        "yColumns": null
       },
       "removedWidgets": [],
       "schema": [
        {
         "metadata": "{}",
         "name": "Region",
         "type": "\"string\""
        },
        {
         "metadata": "{}",
         "name": "Month",
         "type": "\"string\""
        },
        {
         "metadata": "{}",
         "name": "Sales",
         "type": "\"long\""
        }
       ],
       "type": "table"
      }
     },
     "output_type": "display_data"
    }
   ],
   "source": [
    "window_criteria = Window.partitionBy('Region').orderBy(col('Sales').desc())\n",
    "\n",
    "(\n",
    "    df.withColumn(\n",
    "        'max_sales'\n",
    "        , dense_rank().over(window_criteria)\n",
    "    )\n",
    "    .filter(col('max_sales') == 1)\n",
    "    .select('Region', 'Month', 'Sales')\n",
    "    .display()    \n",
    ")"
   ]
  },
  {
   "cell_type": "code",
   "execution_count": 0,
   "metadata": {
    "application/vnd.databricks.v1+cell": {
     "cellMetadata": {},
     "inputWidgets": {},
     "nuid": "c5b794d1-188b-488f-82e5-d6c91008cf26",
     "showTitle": false,
     "tableResultSettingsMap": {},
     "title": ""
    }
   },
   "outputs": [],
   "source": []
  }
 ],
 "metadata": {
  "application/vnd.databricks.v1+notebook": {
   "computePreferences": null,
   "dashboards": [],
   "environmentMetadata": {
    "base_environment": "",
    "client": "1"
   },
   "language": "python",
   "notebookMetadata": {
    "pythonIndentUnit": 4
   },
   "notebookName": "LTIMindtree - PySpark Interview Question",
   "widgets": {}
  }
 },
 "nbformat": 4,
 "nbformat_minor": 0
}
