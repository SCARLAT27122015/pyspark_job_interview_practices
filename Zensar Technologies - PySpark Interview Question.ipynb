{
 "cells": [
  {
   "cell_type": "markdown",
   "metadata": {
    "application/vnd.databricks.v1+cell": {
     "cellMetadata": {},
     "inputWidgets": {},
     "nuid": "e314d090-d8f7-4597-81aa-63a20a98e020",
     "showTitle": false,
     "tableResultSettingsMap": {},
     "title": ""
    }
   },
   "source": [
    "# Zensar Technologies - PySpark Interview Question"
   ]
  },
  {
   "cell_type": "markdown",
   "metadata": {
    "application/vnd.databricks.v1+cell": {
     "cellMetadata": {},
     "inputWidgets": {},
     "nuid": "da443085-a30b-47bc-bfb1-eb85e3c54f54",
     "showTitle": false,
     "tableResultSettingsMap": {},
     "title": ""
    }
   },
   "source": [
    "You are given a dataset of stock prices with the following columns:\n",
    "\n",
    "* stock_id: Unique identifier for the stock.\n",
    "* date: The date of the stock price.\n",
    "* price: The price of the stock on the given date.\n",
    "\n",
    "Your task is to calculate the 3-day rolling average of the stock price (rolling_avg) for each stock (stock_id) using a sliding window, ensuring the results are partitioned by stock_id and ordered by date."
   ]
  },
  {
   "cell_type": "code",
   "execution_count": 0,
   "metadata": {
    "application/vnd.databricks.v1+cell": {
     "cellMetadata": {
      "byteLimit": 2048000,
      "rowLimit": 10000
     },
     "inputWidgets": {},
     "nuid": "2465bb15-6302-42d7-b313-8b9d7ffa5d22",
     "showTitle": false,
     "tableResultSettingsMap": {},
     "title": ""
    }
   },
   "outputs": [],
   "source": [
    "from pyspark.sql.functions import *\n",
    "from pyspark.sql.types import *\n",
    "from pyspark.sql.window import *"
   ]
  },
  {
   "cell_type": "code",
   "execution_count": 0,
   "metadata": {
    "application/vnd.databricks.v1+cell": {
     "cellMetadata": {
      "byteLimit": 2048000,
      "rowLimit": 10000
     },
     "inputWidgets": {},
     "nuid": "58f5b98d-8368-4771-af6e-2ca01c4abf7c",
     "showTitle": false,
     "tableResultSettingsMap": {},
     "title": ""
    }
   },
   "outputs": [],
   "source": [
    "data = [ (\"A\", \"2023-01-01\", 100), (\"A\", \"2023-01-02\", 105), \n",
    "(\"A\", \"2023-01-03\", 110), (\"A\", \"2023-01-04\", 120), \n",
    "(\"B\", \"2023-01-01\", 50), (\"B\", \"2023-01-02\", 55), \n",
    "(\"B\", \"2023-01-03\", 60), (\"B\", \"2023-01-04\", 65), ] \n",
    "\n",
    "# Define schema \n",
    "columns = [\"stock_id\", \"date\", \"price\"] "
   ]
  },
  {
   "cell_type": "code",
   "execution_count": 0,
   "metadata": {
    "application/vnd.databricks.v1+cell": {
     "cellMetadata": {
      "byteLimit": 2048000,
      "rowLimit": 10000
     },
     "inputWidgets": {},
     "nuid": "3aa689c0-96d0-4808-a355-3446385fbbe4",
     "showTitle": false,
     "tableResultSettingsMap": {},
     "title": ""
    }
   },
   "outputs": [
    {
     "output_type": "display_data",
     "data": {
      "text/html": [
       "<style scoped>\n",
       "  .table-result-container {\n",
       "    max-height: 300px;\n",
       "    overflow: auto;\n",
       "  }\n",
       "  table, th, td {\n",
       "    border: 1px solid black;\n",
       "    border-collapse: collapse;\n",
       "  }\n",
       "  th, td {\n",
       "    padding: 5px;\n",
       "  }\n",
       "  th {\n",
       "    text-align: left;\n",
       "  }\n",
       "</style><div class='table-result-container'><table class='table-result'><thead style='background-color: white'><tr><th>stock_id</th><th>date</th><th>price</th></tr></thead><tbody><tr><td>A</td><td>2023-01-01</td><td>100</td></tr><tr><td>A</td><td>2023-01-02</td><td>105</td></tr><tr><td>A</td><td>2023-01-03</td><td>110</td></tr><tr><td>A</td><td>2023-01-04</td><td>120</td></tr><tr><td>B</td><td>2023-01-01</td><td>50</td></tr><tr><td>B</td><td>2023-01-02</td><td>55</td></tr><tr><td>B</td><td>2023-01-03</td><td>60</td></tr><tr><td>B</td><td>2023-01-04</td><td>65</td></tr></tbody></table></div>"
      ]
     },
     "metadata": {
      "application/vnd.databricks.v1+output": {
       "addedWidgets": {},
       "aggData": [],
       "aggError": "",
       "aggOverflow": false,
       "aggSchema": [],
       "aggSeriesLimitReached": false,
       "aggType": "",
       "arguments": {},
       "columnCustomDisplayInfos": {},
       "data": [
        [
         "A",
         "2023-01-01",
         100
        ],
        [
         "A",
         "2023-01-02",
         105
        ],
        [
         "A",
         "2023-01-03",
         110
        ],
        [
         "A",
         "2023-01-04",
         120
        ],
        [
         "B",
         "2023-01-01",
         50
        ],
        [
         "B",
         "2023-01-02",
         55
        ],
        [
         "B",
         "2023-01-03",
         60
        ],
        [
         "B",
         "2023-01-04",
         65
        ]
       ],
       "datasetInfos": [],
       "dbfsResultPath": null,
       "isJsonSchema": true,
       "metadata": {},
       "overflow": false,
       "plotOptions": {
        "customPlotOptions": {},
        "displayType": "table",
        "pivotAggregation": null,
        "pivotColumns": null,
        "xColumns": null,
        "yColumns": null
       },
       "removedWidgets": [],
       "schema": [
        {
         "metadata": "{}",
         "name": "stock_id",
         "type": "\"string\""
        },
        {
         "metadata": "{}",
         "name": "date",
         "type": "\"string\""
        },
        {
         "metadata": "{}",
         "name": "price",
         "type": "\"long\""
        }
       ],
       "type": "table"
      }
     },
     "output_type": "display_data"
    }
   ],
   "source": [
    "df_stock = spark.createDataFrame(data, columns)\n",
    "df_stock.display()\n"
   ]
  },
  {
   "cell_type": "code",
   "execution_count": 0,
   "metadata": {
    "application/vnd.databricks.v1+cell": {
     "cellMetadata": {
      "byteLimit": 2048000,
      "rowLimit": 10000
     },
     "inputWidgets": {},
     "nuid": "2839d695-0bfc-4cab-9610-e37ac6999b0d",
     "showTitle": false,
     "tableResultSettingsMap": {},
     "title": ""
    }
   },
   "outputs": [
    {
     "output_type": "display_data",
     "data": {
      "text/html": [
       "<style scoped>\n",
       "  .table-result-container {\n",
       "    max-height: 300px;\n",
       "    overflow: auto;\n",
       "  }\n",
       "  table, th, td {\n",
       "    border: 1px solid black;\n",
       "    border-collapse: collapse;\n",
       "  }\n",
       "  th, td {\n",
       "    padding: 5px;\n",
       "  }\n",
       "  th {\n",
       "    text-align: left;\n",
       "  }\n",
       "</style><div class='table-result-container'><table class='table-result'><thead style='background-color: white'><tr><th>stock_id</th><th>date</th><th>price</th><th>slicing_window</th></tr></thead><tbody><tr><td>A</td><td>2023-01-01</td><td>100</td><td>100.0</td></tr><tr><td>A</td><td>2023-01-02</td><td>105</td><td>102.5</td></tr><tr><td>A</td><td>2023-01-03</td><td>110</td><td>105.0</td></tr><tr><td>A</td><td>2023-01-04</td><td>120</td><td>111.66666666666667</td></tr><tr><td>B</td><td>2023-01-01</td><td>50</td><td>50.0</td></tr><tr><td>B</td><td>2023-01-02</td><td>55</td><td>52.5</td></tr><tr><td>B</td><td>2023-01-03</td><td>60</td><td>55.0</td></tr><tr><td>B</td><td>2023-01-04</td><td>65</td><td>60.0</td></tr></tbody></table></div>"
      ]
     },
     "metadata": {
      "application/vnd.databricks.v1+output": {
       "addedWidgets": {},
       "aggData": [],
       "aggError": "",
       "aggOverflow": false,
       "aggSchema": [],
       "aggSeriesLimitReached": false,
       "aggType": "",
       "arguments": {},
       "columnCustomDisplayInfos": {},
       "data": [
        [
         "A",
         "2023-01-01",
         100,
         100.0
        ],
        [
         "A",
         "2023-01-02",
         105,
         102.5
        ],
        [
         "A",
         "2023-01-03",
         110,
         105.0
        ],
        [
         "A",
         "2023-01-04",
         120,
         111.66666666666667
        ],
        [
         "B",
         "2023-01-01",
         50,
         50.0
        ],
        [
         "B",
         "2023-01-02",
         55,
         52.5
        ],
        [
         "B",
         "2023-01-03",
         60,
         55.0
        ],
        [
         "B",
         "2023-01-04",
         65,
         60.0
        ]
       ],
       "datasetInfos": [],
       "dbfsResultPath": null,
       "isJsonSchema": true,
       "metadata": {},
       "overflow": false,
       "plotOptions": {
        "customPlotOptions": {},
        "displayType": "table",
        "pivotAggregation": null,
        "pivotColumns": null,
        "xColumns": null,
        "yColumns": null
       },
       "removedWidgets": [],
       "schema": [
        {
         "metadata": "{}",
         "name": "stock_id",
         "type": "\"string\""
        },
        {
         "metadata": "{}",
         "name": "date",
         "type": "\"string\""
        },
        {
         "metadata": "{}",
         "name": "price",
         "type": "\"long\""
        },
        {
         "metadata": "{}",
         "name": "slicing_window",
         "type": "\"double\""
        }
       ],
       "type": "table"
      }
     },
     "output_type": "display_data"
    }
   ],
   "source": [
    "criteria = Window.partitionBy('stock_id').orderBy('date').rowsBetween(-2,0)\n",
    "\n",
    "(\n",
    "    df_stock.withColumn(\n",
    "                'slicing_window'\n",
    "                , mean(col('price')).over(criteria)\n",
    "            )\n",
    "            .display()\n",
    ")"
   ]
  },
  {
   "cell_type": "code",
   "execution_count": 0,
   "metadata": {
    "application/vnd.databricks.v1+cell": {
     "cellMetadata": {},
     "inputWidgets": {},
     "nuid": "d60ca058-1697-466a-bdf2-3aed36637fe4",
     "showTitle": false,
     "tableResultSettingsMap": {},
     "title": ""
    }
   },
   "outputs": [],
   "source": []
  }
 ],
 "metadata": {
  "application/vnd.databricks.v1+notebook": {
   "computePreferences": null,
   "dashboards": [],
   "environmentMetadata": {
    "base_environment": "",
    "client": "1"
   },
   "language": "python",
   "notebookMetadata": {
    "pythonIndentUnit": 4
   },
   "notebookName": "Zensar Technologies - PySpark Interview Question",
   "widgets": {}
  }
 },
 "nbformat": 4,
 "nbformat_minor": 0
}
