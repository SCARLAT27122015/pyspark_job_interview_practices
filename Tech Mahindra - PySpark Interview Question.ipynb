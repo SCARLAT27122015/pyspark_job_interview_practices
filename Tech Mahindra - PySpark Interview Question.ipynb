{
 "cells": [
  {
   "cell_type": "markdown",
   "metadata": {
    "application/vnd.databricks.v1+cell": {
     "cellMetadata": {},
     "inputWidgets": {},
     "nuid": "01995933-a3f0-46ec-b6c2-f8611ff3d6e7",
     "showTitle": false,
     "tableResultSettingsMap": {},
     "title": ""
    }
   },
   "source": [
    "# Tech Mahindra - PySpark Interview Question"
   ]
  },
  {
   "cell_type": "markdown",
   "metadata": {
    "application/vnd.databricks.v1+cell": {
     "cellMetadata": {},
     "inputWidgets": {},
     "nuid": "3bf917a8-47e8-4351-984e-085d1cb6792d",
     "showTitle": false,
     "tableResultSettingsMap": {},
     "title": ""
    }
   },
   "source": [
    "Imagine you're analyzing the monthly sales performance of a company across different regions. You want to calculate:\n",
    "* The cumulative sales for each region over months.\n",
    "* The rank of each month based on sales within the same region."
   ]
  },
  {
   "cell_type": "code",
   "execution_count": 0,
   "metadata": {
    "application/vnd.databricks.v1+cell": {
     "cellMetadata": {
      "byteLimit": 2048000,
      "rowLimit": 10000
     },
     "inputWidgets": {},
     "nuid": "4ad2a4e0-6134-46f9-8aa9-2c47396c0949",
     "showTitle": false,
     "tableResultSettingsMap": {},
     "title": ""
    }
   },
   "outputs": [],
   "source": [
    "from pyspark.sql.functions import *\n",
    "from pyspark.sql.types import *\n",
    "from pyspark.sql.window import *"
   ]
  },
  {
   "cell_type": "code",
   "execution_count": 0,
   "metadata": {
    "application/vnd.databricks.v1+cell": {
     "cellMetadata": {
      "byteLimit": 2048000,
      "rowLimit": 10000
     },
     "inputWidgets": {},
     "nuid": "82f644df-1381-4ec1-8202-3fa2d6347f0d",
     "showTitle": false,
     "tableResultSettingsMap": {},
     "title": ""
    }
   },
   "outputs": [],
   "source": [
    "data = [ (\"East\", \"Jan\", 200), (\"East\", \"Feb\", 300), \n",
    "(\"East\", \"Mar\", 250), (\"West\", \"Jan\", 400), \n",
    "(\"West\", \"Feb\", 350), (\"West\", \"Mar\", 450) ]\n",
    "\n",
    " # Define schema and create DataFrame \n",
    "\n",
    "columns = [\"Region\", \"Month\", \"Sales\"]"
   ]
  },
  {
   "cell_type": "code",
   "execution_count": 0,
   "metadata": {
    "application/vnd.databricks.v1+cell": {
     "cellMetadata": {
      "byteLimit": 2048000,
      "rowLimit": 10000
     },
     "inputWidgets": {},
     "nuid": "b8e875a9-deb9-4fe9-8c96-4acd3f2be157",
     "showTitle": false,
     "tableResultSettingsMap": {},
     "title": ""
    }
   },
   "outputs": [
    {
     "output_type": "display_data",
     "data": {
      "text/html": [
       "<style scoped>\n",
       "  .table-result-container {\n",
       "    max-height: 300px;\n",
       "    overflow: auto;\n",
       "  }\n",
       "  table, th, td {\n",
       "    border: 1px solid black;\n",
       "    border-collapse: collapse;\n",
       "  }\n",
       "  th, td {\n",
       "    padding: 5px;\n",
       "  }\n",
       "  th {\n",
       "    text-align: left;\n",
       "  }\n",
       "</style><div class='table-result-container'><table class='table-result'><thead style='background-color: white'><tr><th>Region</th><th>Month</th><th>Sales</th></tr></thead><tbody><tr><td>East</td><td>Jan</td><td>200</td></tr><tr><td>East</td><td>Feb</td><td>300</td></tr><tr><td>East</td><td>Mar</td><td>250</td></tr><tr><td>West</td><td>Jan</td><td>400</td></tr><tr><td>West</td><td>Feb</td><td>350</td></tr><tr><td>West</td><td>Mar</td><td>450</td></tr></tbody></table></div>"
      ]
     },
     "metadata": {
      "application/vnd.databricks.v1+output": {
       "addedWidgets": {},
       "aggData": [],
       "aggError": "",
       "aggOverflow": false,
       "aggSchema": [],
       "aggSeriesLimitReached": false,
       "aggType": "",
       "arguments": {},
       "columnCustomDisplayInfos": {},
       "data": [
        [
         "East",
         "Jan",
         200
        ],
        [
         "East",
         "Feb",
         300
        ],
        [
         "East",
         "Mar",
         250
        ],
        [
         "West",
         "Jan",
         400
        ],
        [
         "West",
         "Feb",
         350
        ],
        [
         "West",
         "Mar",
         450
        ]
       ],
       "datasetInfos": [],
       "dbfsResultPath": null,
       "isJsonSchema": true,
       "metadata": {},
       "overflow": false,
       "plotOptions": {
        "customPlotOptions": {},
        "displayType": "table",
        "pivotAggregation": null,
        "pivotColumns": null,
        "xColumns": null,
        "yColumns": null
       },
       "removedWidgets": [],
       "schema": [
        {
         "metadata": "{}",
         "name": "Region",
         "type": "\"string\""
        },
        {
         "metadata": "{}",
         "name": "Month",
         "type": "\"string\""
        },
        {
         "metadata": "{}",
         "name": "Sales",
         "type": "\"long\""
        }
       ],
       "type": "table"
      }
     },
     "output_type": "display_data"
    }
   ],
   "source": [
    "df_sales = spark.createDataFrame(data, columns)\n",
    "df_sales.display()"
   ]
  },
  {
   "cell_type": "code",
   "execution_count": 0,
   "metadata": {
    "application/vnd.databricks.v1+cell": {
     "cellMetadata": {
      "byteLimit": 2048000,
      "rowLimit": 10000
     },
     "inputWidgets": {},
     "nuid": "7e982492-e245-4ce2-a1de-9c84f9a84cd7",
     "showTitle": false,
     "tableResultSettingsMap": {},
     "title": ""
    }
   },
   "outputs": [
    {
     "output_type": "display_data",
     "data": {
      "text/html": [
       "<style scoped>\n",
       "  .table-result-container {\n",
       "    max-height: 300px;\n",
       "    overflow: auto;\n",
       "  }\n",
       "  table, th, td {\n",
       "    border: 1px solid black;\n",
       "    border-collapse: collapse;\n",
       "  }\n",
       "  th, td {\n",
       "    padding: 5px;\n",
       "  }\n",
       "  th {\n",
       "    text-align: left;\n",
       "  }\n",
       "</style><div class='table-result-container'><table class='table-result'><thead style='background-color: white'><tr><th>Region</th><th>Month</th><th>Sales</th><th>rank</th><th>cum</th></tr></thead><tbody><tr><td>East</td><td>Jan</td><td>200</td><td>1</td><td>200</td></tr><tr><td>East</td><td>Mar</td><td>250</td><td>2</td><td>450</td></tr><tr><td>East</td><td>Feb</td><td>300</td><td>3</td><td>750</td></tr><tr><td>West</td><td>Feb</td><td>350</td><td>1</td><td>350</td></tr><tr><td>West</td><td>Jan</td><td>400</td><td>2</td><td>750</td></tr><tr><td>West</td><td>Mar</td><td>450</td><td>3</td><td>1200</td></tr></tbody></table></div>"
      ]
     },
     "metadata": {
      "application/vnd.databricks.v1+output": {
       "addedWidgets": {},
       "aggData": [],
       "aggError": "",
       "aggOverflow": false,
       "aggSchema": [],
       "aggSeriesLimitReached": false,
       "aggType": "",
       "arguments": {},
       "columnCustomDisplayInfos": {},
       "data": [
        [
         "East",
         "Jan",
         200,
         1,
         200
        ],
        [
         "East",
         "Mar",
         250,
         2,
         450
        ],
        [
         "East",
         "Feb",
         300,
         3,
         750
        ],
        [
         "West",
         "Feb",
         350,
         1,
         350
        ],
        [
         "West",
         "Jan",
         400,
         2,
         750
        ],
        [
         "West",
         "Mar",
         450,
         3,
         1200
        ]
       ],
       "datasetInfos": [],
       "dbfsResultPath": null,
       "isJsonSchema": true,
       "metadata": {},
       "overflow": false,
       "plotOptions": {
        "customPlotOptions": {},
        "displayType": "table",
        "pivotAggregation": null,
        "pivotColumns": null,
        "xColumns": null,
        "yColumns": null
       },
       "removedWidgets": [],
       "schema": [
        {
         "metadata": "{}",
         "name": "Region",
         "type": "\"string\""
        },
        {
         "metadata": "{}",
         "name": "Month",
         "type": "\"string\""
        },
        {
         "metadata": "{}",
         "name": "Sales",
         "type": "\"long\""
        },
        {
         "metadata": "{}",
         "name": "rank",
         "type": "\"integer\""
        },
        {
         "metadata": "{}",
         "name": "cum",
         "type": "\"long\""
        }
       ],
       "type": "table"
      }
     },
     "output_type": "display_data"
    }
   ],
   "source": [
    "partition_rnk = Window.partitionBy(col('Region')).orderBy(col('Sales').asc())\n",
    "partition_cum_sum = Window.partitionBy('Region').orderBy(col('Sales')).rowsBetween(Window.unboundedPreceding, 0)\n",
    "(\n",
    "    df_sales.withColumns({\n",
    "                'rank': rank().over(partition_rnk)\n",
    "                , 'cum': sum(col('Sales')).over(partition_cum_sum)\n",
    "            })\n",
    "            .display()\n",
    ")"
   ]
  },
  {
   "cell_type": "code",
   "execution_count": 0,
   "metadata": {
    "application/vnd.databricks.v1+cell": {
     "cellMetadata": {},
     "inputWidgets": {},
     "nuid": "7d979279-8a23-4863-8176-ae7f3fd2f9e0",
     "showTitle": false,
     "tableResultSettingsMap": {},
     "title": ""
    }
   },
   "outputs": [],
   "source": []
  }
 ],
 "metadata": {
  "application/vnd.databricks.v1+notebook": {
   "computePreferences": null,
   "dashboards": [],
   "environmentMetadata": {
    "base_environment": "",
    "client": "1"
   },
   "language": "python",
   "notebookMetadata": {
    "pythonIndentUnit": 4
   },
   "notebookName": "Tech Mahindra - PySpark Interview Question",
   "widgets": {}
  }
 },
 "nbformat": 4,
 "nbformat_minor": 0
}
